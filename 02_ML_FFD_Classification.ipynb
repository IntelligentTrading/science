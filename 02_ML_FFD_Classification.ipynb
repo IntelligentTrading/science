{
 "cells": [
  {
   "cell_type": "markdown",
   "metadata": {},
   "source": [
    "## Predict price at next period with simply deep FeedForward NN as a regression\n",
    "#### we can also do is as a classification, for example look for an extrean events like if tomorrow is >20% grow etc\n"
   ]
  },
  {
   "cell_type": "markdown",
   "metadata": {},
   "source": [
    "# TODO: \n",
    "### - predict return (close price — open price)\n",
    "### - price will go up [1; 0] or down [0; 1]\n",
    "### - add dropout\n",
    "### - Use CNN and RNN\n",
    "### - add volume as a frature + sma+rsi+ichi elementary events\n",
    "#### -  MACD, Ichimocku cloud, RSI, volatility and others. All these values will form multivariate time series\n",
    "\n",
    "volatility1 = pd.DataFrame(closep).rolling(ROLLING).std().values#.tolist()\n",
    "\n",
    "volatility2 = pd.DataFrame(closep).rolling(ROLLING).var().values#.tolist()\n",
    "\n",
    "volatility = volatility1 / volatility2\n",
    "\n",
    "volatility = [v[0] for v in volatility]\n"
   ]
  },
  {
   "cell_type": "code",
   "execution_count": 64,
   "metadata": {},
   "outputs": [
    {
     "data": {
      "text/plain": [
       "'1.5.0'"
      ]
     },
     "execution_count": 64,
     "metadata": {},
     "output_type": "execute_result"
    }
   ],
   "source": [
    "import numpy as np\n",
    "import pandas as pd\n",
    "import os\n",
    "import matplotlib\n",
    "import matplotlib.pyplot as plt\n",
    "import random\n",
    "%matplotlib inline\n",
    "from matplotlib.dates import DateFormatter, WeekdayLocator, DayLocator, MONDAY\n",
    "\n",
    "import mysql.connector\n",
    "from mysql.connector import errorcode\n",
    "\n",
    "import tensorflow as tf\n",
    "import shutil\n",
    "import tensorflow.contrib.learn as tflearn\n",
    "import tensorflow.contrib.layers as tflayers\n",
    "from tensorflow.contrib.learn.python.learn import learn_runner\n",
    "import tensorflow.contrib.metrics as metrics\n",
    "import tensorflow.contrib.rnn as rnn\n",
    "\n",
    "from sklearn.metrics import r2_score\n",
    "from sklearn import metrics\n",
    "\n",
    "\n",
    "tf.__version__\n",
    "\n",
    "# https://mapr.com/blog/deep-learning-tensorflow/\n"
   ]
  },
  {
   "cell_type": "code",
   "execution_count": null,
   "metadata": {
    "collapsed": true
   },
   "outputs": [],
   "source": []
  },
  {
   "cell_type": "markdown",
   "metadata": {},
   "source": [
    "## connect to DB"
   ]
  },
  {
   "cell_type": "code",
   "execution_count": 2,
   "metadata": {
    "collapsed": true
   },
   "outputs": [],
   "source": [
    "DATABASE = 'prodcopy'\n",
    "\n",
    "if DATABASE == 'prod':\n",
    "    config = {\n",
    "      'user': 'alienbaby',\n",
    "      'password': 'alienbabymoonangel',\n",
    "      'host': 'intelligenttrading-aurora-production-primary-cluster.cluster-caexel1tmds5.us-east-1.rds.amazonaws.com',\n",
    "      'port': '3306',\n",
    "      'database': 'intelligenttrading_primary',\n",
    "      'raise_on_warnings': True,\n",
    "    }\n",
    "    try:\n",
    "      db_connection = mysql.connector.connect(**config)\n",
    "    except mysql.connector.Error as err:\n",
    "      if err.errno == errorcode.ER_ACCESS_DENIED_ERROR:\n",
    "        print(\"Something is wrong with your user name or password\")\n",
    "      elif err.errno == errorcode.ER_BAD_DB_ERROR:\n",
    "        print(\"Database does not exist\")\n",
    "      else:\n",
    "        print(err)\n",
    "        \n",
    "elif DATABASE == 'stage':\n",
    "    config = {\n",
    "      'user': 'alienbaby',\n",
    "      'password': 'alienbabymoonangel',\n",
    "      'host': 'intelligenttrading-aurora-production-postgres-cluster.cluster-caexel1tmds5.us-east-1.rds.amazonaws.com',\n",
    "      'port': '5432',\n",
    "      'dbname': 'primary_postgres'\n",
    "    }\n",
    "\n",
    "    try:\n",
    "      db_connection = pg.connect(**config)\n",
    "    except mysql.connector.Error as err:\n",
    "      if err.errno == errorcode.ER_ACCESS_DENIED_ERROR:\n",
    "        print(\"Something is wrong with your user name or password\")\n",
    "      elif err.errno == errorcode.ER_BAD_DB_ERROR:\n",
    "        print(\"Database does not exist\")\n",
    "      else:\n",
    "        print(err)\n",
    "        \n",
    "elif DATABASE == 'prodcopy':\n",
    "    config = {\n",
    "      'user': 'alienbaby',\n",
    "      'password': 'alienbabymoonangel',\n",
    "      'host': 'prodclone.caexel1tmds5.us-east-1.rds.amazonaws.com',\n",
    "      'port': '3306',\n",
    "      'database': 'intelligenttrading_primary',\n",
    "      'raise_on_warnings': True,\n",
    "    }\n",
    "\n",
    "    try:\n",
    "      db_connection = mysql.connector.connect(**config)\n",
    "    except mysql.connector.Error as err:\n",
    "      if err.errno == errorcode.ER_ACCESS_DENIED_ERROR:\n",
    "        print(\"Something is wrong with your user name or password\")\n",
    "      elif err.errno == errorcode.ER_BAD_DB_ERROR:\n",
    "        print(\"Database does not exist\")\n",
    "      else:\n",
    "        print(err)"
   ]
  },
  {
   "cell_type": "markdown",
   "metadata": {},
   "source": [
    "## Get timeseries from Staging DB (both minute and hours)\n"
   ]
  },
  {
   "cell_type": "code",
   "execution_count": 3,
   "metadata": {
    "collapsed": true
   },
   "outputs": [],
   "source": [
    "transaction_coin = 'ETH'\n",
    "counter_coin = 0\n",
    "\n",
    "resample_period = 60"
   ]
  },
  {
   "cell_type": "code",
   "execution_count": 329,
   "metadata": {},
   "outputs": [
    {
     "data": {
      "image/png": "[encoded data removed]",
      "text/plain": [
       "<matplotlib.figure.Figure at 0x1c1d5a3438>"
      ]
     },
     "metadata": {},
     "output_type": "display_data"
    }
   ],
   "source": [
    "\n",
    "\n",
    "query = (\" SELECT * FROM indicator_priceresampl WHERE \\\n",
    "transaction_currency='%s' AND \\\n",
    "counter_currency=%d \\\n",
    "and resample_period=%d \" ) % (transaction_coin, counter_coin, resample_period)\n",
    "\n",
    "resampl_df = pd.read_sql(query, con=db_connection)\n",
    "resampl_df['timestamp'] = pd.to_datetime(resampl_df['timestamp'], unit='s')\n",
    "resampl_df.index = pd.DatetimeIndex(resampl_df.timestamp)\n",
    "resampl_df.sort_index(inplace=True)\n",
    "\n",
    "# correct bad resampling\n",
    "str(int(resample_period/60)) + 'H'\n",
    "rule = str(int(resample_period/60)) + 'H'\n",
    "res_df = resampl_df[['high_price','low_price','open_price','close_price']].resample(rule=rule).mean().bfill()\n",
    "\n",
    "# extract closing price\n",
    "ts = res_df[['open_price','close_price','high_price']]\n",
    "\n",
    "# normalize\n",
    "resampl_ts = 1+(ts - ts.mean()) / (ts.max() - ts.min())\n",
    "#X = (X - np.mean(X)) / np.std(X)\n",
    "resampl_ts[\"price\"] = resampl_ts[\"close_price\"]\n",
    "\n",
    "fig, ax1 = plt.subplots(nrows=1, ncols=1, figsize=(16,5))\n",
    "fig.suptitle(\"%s/%d (RESAMPLED) price\" % (transaction_coin, counter_coin))\n",
    "ax1.xaxis.set_major_formatter(DateFormatter(\"%d-%m\"))\n",
    "ax1.plot(resampl_ts['price'])\n",
    "plt.show()\n"
   ]
  },
  {
   "cell_type": "code",
   "execution_count": 4,
   "metadata": {
    "collapsed": true
   },
   "outputs": [],
   "source": [
    "query = \"SELECT * FROM indicator_price WHERE transaction_currency='%s' AND counter_currency=%d \"\n",
    "query = query % (transaction_coin, counter_coin)\n",
    "df_sql = pd.read_sql(query, con=db_connection)\n",
    "df_sql['timestamp'] = pd.to_datetime(df_sql['timestamp'], unit='s')\n",
    "df_sql.index = pd.DatetimeIndex(df_sql.timestamp)\n",
    "\n",
    "raw_price_ts = df_sql[\"price\"].to_frame()\n",
    "\n"
   ]
  },
  {
   "cell_type": "code",
   "execution_count": 5,
   "metadata": {
    "collapsed": true
   },
   "outputs": [],
   "source": [
    "price_ts = raw_price_ts  # remove gaps\n",
    "price_ts[pd.isnull(price_ts[\"price\"])] = None\n",
    "\n",
    "# resample (for smoothing) and normalize (for learning)\n",
    "price_ts = price_ts.resample(rule='15min').mean()"
   ]
  },
  {
   "cell_type": "code",
   "execution_count": 6,
   "metadata": {},
   "outputs": [
    {
     "data": {
      "text/plain": [
       "<matplotlib.axes._subplots.AxesSubplot at 0x1c230fc710>"
      ]
     },
     "execution_count": 6,
     "metadata": {},
     "output_type": "execute_result"
    },
    {
     "data": {
      "image/png": "[encoded data removed]",
      "text/plain": [
       "<matplotlib.figure.Figure at 0x1c20f72160>"
      ]
     },
     "metadata": {},
     "output_type": "display_data"
    }
   ],
   "source": [
    "cutoff=420\n",
    "price_ts.head(cutoff).plot()"
   ]
  },
  {
   "cell_type": "code",
   "execution_count": null,
   "metadata": {
    "collapsed": true
   },
   "outputs": [],
   "source": []
  },
  {
   "cell_type": "code",
   "execution_count": 7,
   "metadata": {
    "collapsed": true
   },
   "outputs": [],
   "source": [
    "\n",
    "\n",
    "# cut empty ts from the beginning\n",
    "price_ts = price_ts.tail(len(price_ts)-cutoff)\n",
    "price_ts = price_ts.interpolate() \n",
    "\n",
    "price_ts =  ((price_ts - price_ts.mean()) / (price_ts.max() - price_ts.min()) )\n",
    "price_ts = price_ts + abs(price_ts.min(axis=0))\n",
    "\n"
   ]
  },
  {
   "cell_type": "code",
   "execution_count": 8,
   "metadata": {},
   "outputs": [
    {
     "data": {
      "text/plain": [
       "price    0.0\n",
       "dtype: float64"
      ]
     },
     "execution_count": 8,
     "metadata": {},
     "output_type": "execute_result"
    }
   ],
   "source": [
    "price_ts.min(axis=0)"
   ]
  },
  {
   "cell_type": "code",
   "execution_count": 9,
   "metadata": {},
   "outputs": [
    {
     "data": {
      "image/png": "[encoded data removed]",
      "text/plain": [
       "<matplotlib.figure.Figure at 0x1c21041710>"
      ]
     },
     "metadata": {},
     "output_type": "display_data"
    }
   ],
   "source": [
    "\n",
    "\n",
    "fig, ax1 = plt.subplots(nrows=1, ncols=1, figsize=(16,5))\n",
    "fig.suptitle(\"%s/%d real price\" % (transaction_coin, counter_coin))\n",
    "ax1.xaxis.set_major_formatter(DateFormatter(\"%d-%m\"))\n",
    "ax1.plot(price_ts)\n",
    "plt.show()\n"
   ]
  },
  {
   "cell_type": "code",
   "execution_count": 10,
   "metadata": {},
   "outputs": [
    {
     "name": "stdout",
     "output_type": "stream",
     "text": [
      "(12366, 1)\n"
     ]
    }
   ],
   "source": [
    "#print(resampl_ts.shape)\n",
    "print(price_ts.shape)"
   ]
  },
  {
   "cell_type": "code",
   "execution_count": null,
   "metadata": {
    "collapsed": true
   },
   "outputs": [],
   "source": []
  },
  {
   "cell_type": "markdown",
   "metadata": {
    "collapsed": true
   },
   "source": [
    "## Helper functions to convert ts into dataset"
   ]
  },
  {
   "cell_type": "code",
   "execution_count": 11,
   "metadata": {
    "collapsed": true
   },
   "outputs": [],
   "source": [
    "\n",
    "\n",
    "-\n",
    "def accuracy(predictions, labels):\n",
    "    return (100.0 * np.sum(np.argmax(predictions, 1) == np.argmax(labels, 1)) /  predictions.shape[0])\n",
    "\n",
    "def softmax(x):\n",
    "    \"\"\"Compute softmax values for each sets of scores in x.\"\"\"\n",
    "    e_x = np.exp(x - np.max(x))\n",
    "    return e_x / e_x.sum(axis=0) \n"
   ]
  },
  {
   "cell_type": "markdown",
   "metadata": {},
   "source": [
    "# CLASSIFICATION"
   ]
  },
  {
   "cell_type": "code",
   "execution_count": 44,
   "metadata": {},
   "outputs": [
    {
     "name": "stderr",
     "output_type": "stream",
     "text": [
      "/Users/alex/anaconda3/anaconda/envs/py3.5.ITT/lib/python3.5/site-packages/ipykernel_launcher.py:30: RuntimeWarning: divide by zero encountered in true_divide\n"
     ]
    }
   ],
   "source": [
    "# choose resample vs price\n",
    "data_ts = price_ts   # or price_ts  or resampl_ts\n",
    "\n",
    "train_num = int(len(data_ts) * 0.8)\n",
    "test_num = len(data_ts) - train_num\n",
    "             \n",
    "ts_train = data_ts.head(train_num)\n",
    "ts_test = data_ts.tail(test_num)\n",
    "\n",
    "# convert linear ts to number of training examples\n",
    "win_size = 128 #1 day\n",
    "forward_time_points= 16\n",
    "delta = 0.02\n",
    "\n",
    "X_train, Y_train = classification_dataset_from_ts(data_df=ts_train, win_size=win_size, stride=1, forward_time_points=forward_time_points, delta=delta)\n",
    "X_test, Y_test = classification_dataset_from_ts(data_df=ts_test, win_size=win_size, stride=1, forward_time_points=forward_time_points, delta=delta)\n",
    "\n",
    "n_features = X_train.shape[0]\n",
    "classes = Y_train.shape[0]\n",
    "m_test = X_test.shape[1]\n",
    "m_train = X_train.shape[1]\n",
    "\n"
   ]
  },
  {
   "cell_type": "code",
   "execution_count": null,
   "metadata": {
    "collapsed": true
   },
   "outputs": [],
   "source": []
  },
  {
   "cell_type": "code",
   "execution_count": 45,
   "metadata": {},
   "outputs": [
    {
     "name": "stdout",
     "output_type": "stream",
     "text": [
      "(9764, 128)\n",
      "(9764, 3)\n",
      "Y train same = 6177\n",
      "Y train above = 1876\n",
      "Y train below = 1711\n",
      "(2346, 128)\n",
      "(2346, 3)\n",
      " m_train 9764, m_test 2346, n_features 128, classes 3\n"
     ]
    }
   ],
   "source": [
    "# cast to a datatype nessesary for tensor flow\n",
    "# in tensorflow <batch size> always comes first!\n",
    "#   X = tf.placeholder(\"float\", shape=[None, x_size])\n",
    "#   y = tf.placeholder(\"float\", shape=[None, y_size])\n",
    "\n",
    "X_train = X_train.astype(dtype=np.float32).T\n",
    "Y_train = Y_train.T\n",
    "X_test = X_test.astype(dtype=np.float32).T\n",
    "Y_test = Y_test.T\n",
    "\n",
    "print(X_train.shape)\n",
    "print(Y_train.shape)\n",
    "print(\"Y train same = \" + str(sum(Y_train[:,0]==1)))\n",
    "print(\"Y train above = \" + str(sum(Y_train[:,1]==1)))\n",
    "print(\"Y train below = \" + str(sum(Y_train[:,2]==1)))\n",
    "\n",
    "print(X_test.shape)\n",
    "print(Y_test.shape)\n",
    "\n",
    "print(\" m_train %d, m_test %d, n_features %d, classes %d\" % (m_train, m_test,n_features,classes ))\n",
    "    \n"
   ]
  },
  {
   "cell_type": "code",
   "execution_count": null,
   "metadata": {
    "collapsed": true
   },
   "outputs": [],
   "source": []
  },
  {
   "cell_type": "code",
   "execution_count": 46,
   "metadata": {},
   "outputs": [
    {
     "name": "stdout",
     "output_type": "stream",
     "text": [
      "last layer:4\n",
      "  TRAINING: logits=Tensor(\"add_3:0\", shape=(9763, 3), dtype=float32)\n",
      "  TRAINING: y_train =Tensor(\"Placeholder_1:0\", shape=(9763, 3), dtype=float32)\n",
      "  TRAINING: train_prediction=Tensor(\"Softmax:0\", shape=(9763, 3), dtype=float32)\n",
      "last layer:4\n"
     ]
    }
   ],
   "source": [
    "# NOTE\n",
    "# in tensorflow <batch size> always comes first!\n",
    "#   X = tf.placeholder(\"float\", shape=[None, x_size])\n",
    "#   y = tf.placeholder(\"float\", shape=[None, y_size])\n",
    "\n",
    "batch_size = m_train-1  # make it regular batch GD (not mini-batch GD!)\n",
    "layer_dims = [n_features, 100, 200, 30, 3]\n",
    "\n",
    "graph_c = tf.Graph()\n",
    "with graph_c.as_default():\n",
    "\n",
    "    def initialize_parameters_deep(layer_dims):\n",
    "        \"\"\"\n",
    "        parameters = initialize_parameters_deep([5,4,3])\n",
    "        Arguments:\n",
    "        layer_dims -- python array (list) containing the dimensions of each layer in our network\n",
    "\n",
    "        Returns:\n",
    "        parameters -- python dictionary containing your parameters \"W1\", \"b1\", ..., \"WL\", \"bL\":\n",
    "                        Wl -- weight matrix of shape (layer_dims[l], layer_dims[l-1])\n",
    "                        bl -- bias vector of shape (layer_dims[l], 1)\n",
    "        \"\"\"\n",
    "\n",
    "        np.random.seed(1)\n",
    "        parameters = {}\n",
    "        L = len(layer_dims)  # number of layers in the network\n",
    "\n",
    "        for l in range(1, L):\n",
    "            \n",
    "            #parameters['W' + str(l)] = tf.Variable(tf.truncated_normal([ layer_dims[l-1], layer_dims[l] ])) * 0.01\n",
    "            parameters['W' + str(l)] = tf.get_variable(\n",
    "                'W' + str(l), shape=[layer_dims[l-1], layer_dims[l]],\n",
    "                initializer=tf.contrib.layers.xavier_initializer()\n",
    "            )\n",
    "            parameters['b' + str(l)] = tf.Variable(tf.zeros( [1, layer_dims[l]] )) \n",
    "            \n",
    "            # W matrix [prev_output, current hudden]\n",
    "            assert ((parameters['W' + str(l)]).shape == (layer_dims[l - 1], layer_dims[l]))\n",
    "            assert ((parameters['b' + str(l)]).shape == (1, layer_dims[l]))\n",
    "\n",
    "        return parameters\n",
    "\n",
    "    def nn_model(X, parameters):\n",
    "        global glob_W3\n",
    "        L = len(layer_dims)\n",
    "        A = X\n",
    "\n",
    "        for l in range(1, L-1):\n",
    "            #print(\"Layer = \" + str(l))\n",
    "            A_prev = A\n",
    "            #print(\"input A = \" + str(A))\n",
    "            W = parameters['W' + str(l)]\n",
    "            b = parameters['b' + str(l)]\n",
    "            #print(W)\n",
    "            #print(A_prev)\n",
    "            #print(b)\n",
    "            A = tf.matmul(A_prev, W) + b\n",
    "            A = tf.nn.relu(A)\n",
    "            \n",
    "            #glob_W1 = str(A.get_shape().as_list())\n",
    "\n",
    "\n",
    "        # add Sigmoid to the last layer\n",
    "        l += 1\n",
    "        print(\"last layer:\" + str(l))\n",
    "        W = parameters['W' + str(l)]\n",
    "        b = parameters['b' + str(l)]\n",
    "        out_layer = tf.matmul(A, W) + b\n",
    "        #out_layer = tf.sigmoid(out_layer)\n",
    "        glob_W3 = str(W)\n",
    "        #print(W.eval())\n",
    "        #print(\"OUTPUT=\" + str(out_layer))\n",
    "\n",
    "        return out_layer\n",
    "\n",
    "    def regularization_term(alpha, par):\n",
    "        #term = alpha * (tf.nn.l2_loss(nn_weights['h1']) + tf.nn.l2_loss(nn_biases['b1'])) + \\\n",
    "        #    alpha * (tf.nn.l2_loss(nn_weights['out']) + tf.nn.l2_loss(nn_biases['out']))\n",
    "        #return term\n",
    "        return 0\n",
    "\n",
    "    ############  MODEL DEFINITION  ##################################\n",
    "    # define tensors (matrix)\n",
    "    tf_train_X = tf.placeholder(tf.float32, shape=(batch_size, n_features ))\n",
    "    tf_train_y = tf.placeholder(tf.float32, shape=(batch_size, classes))\n",
    "    #tf_valid_dataset = tf.constant(valid_dataset)\n",
    "    #tf_test_dataset = tf.constant(X_test)\n",
    "\n",
    "    tf_predict_X = tf.placeholder(tf.float32, shape=(None, n_features ))\n",
    "    \n",
    "    \n",
    "    # start Net\n",
    "    parameters = initialize_parameters_deep(layer_dims)\n",
    "    \n",
    "    out_logits = nn_model(tf_train_X, parameters)\n",
    "    \n",
    "\n",
    "    # Optimization\n",
    "    alpha = 0.001  # regularization term\n",
    "\n",
    "    print(\"  TRAINING: logits=\" + str(out_logits))\n",
    "    print(\"  TRAINING: y_train =\" + str(tf_train_y))\n",
    "    # logits and labels must have the same shape, e.g. [batch_size, num_classes]\n",
    "    cross_entropy = tf.nn.softmax_cross_entropy_with_logits_v2(labels=tf_train_y, logits=out_logits )\n",
    "    loss = tf.reduce_mean(cross_entropy)              #  + regularization_term(alpha, parameters) / same as mean      \n",
    "\n",
    "    optimizer = tf.train.AdamOptimizer(0.0005).minimize(loss)\n",
    "    #optimizer = tf.train.GradientDescentOptimizer(0.00003).minimize(loss)\n",
    "\n",
    "    train_prediction = tf.nn.softmax(out_logits)\n",
    "    print(\"  TRAINING: train_prediction=\" + str(train_prediction))\n",
    "\n",
    "    lb_count = tf.argmax(tf_train_y, 1)\n",
    "    pr_count = tf.argmax(train_prediction,1)\n",
    "\n",
    "    tf_metric, tf_metric_update = tf.metrics.accuracy(labels=tf.argmax(tf_train_y, 1),\n",
    "                                                      predictions=tf.argmax(train_prediction,1),\n",
    "                                                      name=\"my_metric\")\n",
    "    # Isolate the variables stored behind the scenes by the metric operation\n",
    "    running_vars = tf.get_collection(tf.GraphKeys.LOCAL_VARIABLES, scope=\"my_metric\")\n",
    "\n",
    "\n",
    "    #acc, acc_op = tf.metrics.accuracy(labels=tf.argmax(tf_train_y, 0), predictions=tf.argmax(train_prediction,0))\n",
    "\n",
    "\n",
    "    predict = tf.nn.softmax( nn_model(tf_predict_X, parameters))\n",
    "\n",
    "\n",
    "    #test_output = nn_model(tf_test_dataset, parameters)\n",
    "    #test_prediction = tf.nn.softmax(test_output)\n",
    "        \n",
    "        \n"
   ]
  },
  {
   "cell_type": "code",
   "execution_count": 47,
   "metadata": {
    "collapsed": true
   },
   "outputs": [],
   "source": [
    "#Y_train[0:10,:]\n"
   ]
  },
  {
   "cell_type": "code",
   "execution_count": 54,
   "metadata": {},
   "outputs": [
    {
     "name": "stdout",
     "output_type": "stream",
     "text": [
      "Initialized\n",
      "Minibatch loss at step 0: 1.010507\n",
      "- Minibatch accuracy: 63.3%\n",
      "Minibatch loss at step 2000: 0.625498\n",
      "- Minibatch accuracy: 74.7%\n",
      "Minibatch loss at step 4000: 0.537122\n",
      "- Minibatch accuracy: 79.0%\n",
      "Minibatch loss at step 6000: 0.473866\n",
      "- Minibatch accuracy: 81.9%\n",
      "\n",
      "\n",
      "======> Overall TEST Accuracy: 90.3%\n",
      "               same    |  above   |  below\n",
      "presicion : [0.93109541 0.171875   0.        ]\n",
      "  reacall : [0.97008744 0.14666667 0.        ]\n",
      "       f1 : [0.95019157 0.15827338 0.        ]\n"
     ]
    }
   ],
   "source": [
    "num_steps = 8000\n",
    "m_train = X_train.shape[0]\n",
    "\n",
    "print_loss = []\n",
    "print_accuracy = []\n",
    "batch_prediction = []\n",
    "\n",
    "with graph_c.as_default():\n",
    "    init = tf.global_variables_initializer() \n",
    "    running_vars_initializer = tf.variables_initializer(var_list=running_vars)\n",
    "\n",
    "\n",
    "with tf.Session(graph=graph_c) as session:\n",
    "    init.run()\n",
    "    running_vars_initializer.run()\n",
    "    print(\"Initialized\")\n",
    "\n",
    "    for step in range(num_steps):\n",
    "        offset = (step * batch_size) % (m_train - batch_size)\n",
    "        #print(\"offset=\" + str(offset))\n",
    "        batch_data = X_train[offset:(offset + batch_size), :]\n",
    "        #print(\"batch data=\" + str(batch_data.shape))\n",
    "        \n",
    "        batch_labels = Y_train[offset:(offset + batch_size), :]\n",
    "        #print(\"batch labels=\" + str(batch_labels.shape))\n",
    "\n",
    "        feed_dict = {tf_train_X: batch_data, tf_train_y: batch_labels}\n",
    "\n",
    "        _, l, predictions, score, lbc, prc = session.run([optimizer, loss, train_prediction,tf_metric, lb_count, pr_count], feed_dict=feed_dict)\n",
    "        #score = session.run(tf_metric)\n",
    "        print_loss.append(l)\n",
    "        print_accuracy.append(accuracy(predictions, batch_labels))\n",
    "\n",
    "        if (step % 2000 == 0):\n",
    "            print(\"Minibatch loss at step %d: %f\" % (step, l))\n",
    "            print(\"- Minibatch accuracy: %.1f%%\" % accuracy(predictions, batch_labels)) \n",
    "            batch_prediction.append([predictions[0,:],batch_labels[0,:]])\n",
    "            #print(predictions[0:20]) \n",
    "            #print(batch_labels[0:20])\n",
    "            #print(\"- Minibatch accuracy: %.1f%%\" % score)\n",
    "            \n",
    "\n",
    "            #print(\"- Validation accuracy: %.1f%%\" % accuracy(valid_prediction.eval(), valid_labels))\n",
    "\n",
    "    print(\"\\n\")\n",
    "    #print(\"Overall Test accuracy: %.1f%%\" % accuracy(test_prediction.eval(), y_test))    \n",
    "    \n",
    "    y_predicted = session.run(predict, feed_dict={tf_predict_X: X_test})\n",
    "    print(\"======> Overall TEST Accuracy: %.1f%%\" % accuracy(y_predicted, Y_test))\n",
    "    \n",
    "    precision = metrics.precision_score(y_true=np.argmax(Y_test,axis=1), y_pred=np.argmax(y_predicted,axis=1), average=None)\n",
    "    recall = metrics.recall_score(y_true=np.argmax(Y_test,axis=1), y_pred=np.argmax(y_predicted,axis=1), average=None)\n",
    "    f1 = metrics.f1_score(y_true=np.argmax(Y_test,axis=1), y_pred=np.argmax(y_predicted,axis=1), average=None)\n",
    "\n",
    "    print(\"               same    |  above   |  below\")\n",
    "    print(\"presicion : \" + str(precision))\n",
    "    print(\"  reacall : \" + str( recall))\n",
    "    print(\"       f1 : \" + str(f1))\n",
    "    \n",
    "    "
   ]
  },
  {
   "cell_type": "code",
   "execution_count": 55,
   "metadata": {},
   "outputs": [
    {
     "data": {
      "image/png": "[encoded data removed]",
      "text/plain": [
       "<matplotlib.figure.Figure at 0x1c21f8f518>"
      ]
     },
     "metadata": {},
     "output_type": "display_data"
    }
   ],
   "source": [
    "fig, [ax1,ax2] = plt.subplots(nrows=2, ncols=1, figsize=(12,8))\n",
    "ax1.plot(print_loss, color=\"red\")\n",
    "ax2.plot(print_accuracy, color=\"green\")\n",
    "plt.show()\n",
    "\n"
   ]
  },
  {
   "cell_type": "code",
   "execution_count": 56,
   "metadata": {},
   "outputs": [
    {
     "data": {
      "text/plain": [
       "2474"
      ]
     },
     "execution_count": 56,
     "metadata": {},
     "output_type": "execute_result"
    }
   ],
   "source": [
    "len(ts_test)"
   ]
  },
  {
   "cell_type": "code",
   "execution_count": 63,
   "metadata": {},
   "outputs": [
    {
     "name": "stdout",
     "output_type": "stream",
     "text": [
      "overall predicted = [393 342 425]\n",
      "    same     |    above    |    below\n",
      "[0.889048   0.10597496 0.00497703]\n",
      "Predicted (0-same, 1-above, 2-below) = 0\n",
      "Labels = [0. 0. 1.]\n"
     ]
    },
    {
     "data": {
      "image/png": "[encoded data removed]",
      "text/plain": [
       "<matplotlib.figure.Figure at 0x1c21f8a860>"
      ]
     },
     "metadata": {},
     "output_type": "display_data"
    }
   ],
   "source": [
    "\n",
    "limit = 700#len(ts_test)\n",
    "\n",
    "point = 290\n",
    "\n",
    "position_on_plot = point + win_size\n",
    "end_of_future_position = point + win_size + forward_time_points\n",
    "start_of_train_position = point + win_size - win_size\n",
    "\n",
    "fig, ax1 = plt.subplots(nrows=1, ncols=1, figsize=(16,7))\n",
    "ax1.plot(ts_test.head(limit), 'o')\n",
    "ax1.axvline(ts_test.index[position_on_plot], color='black')\n",
    "ax1.axvline(ts_test.index[end_of_future_position], color='black')\n",
    "ax1.axvline(ts_test.index[start_of_train_position], color='orange')\n",
    "\n",
    "\n",
    "\n",
    "ax1.plot()\n",
    "\n",
    "print(\"overall predicted = \" + str((np.argmax(y_predicted,axis=0))))\n",
    "\n",
    "print(\"    same     |    above    |    below\")\n",
    "print(y_predicted[point,:])\n",
    "print(\"Predicted (0-same, 1-above, 2-below) = \" + str(np.argmax(y_predicted[point,:],axis=0)))\n",
    "print(\"Labels = \" + str(Y_test[point,:]))\n",
    "plt.show()"
   ]
  },
  {
   "cell_type": "code",
   "execution_count": 58,
   "metadata": {},
   "outputs": [
    {
     "data": {
      "text/plain": [
       "array([0, 0, 0, 0, 0, 0, 0, 0, 0, 1, 1, 0, 1, 1, 1, 1, 1, 1, 1, 1, 0, 0,\n",
       "       0, 0, 0, 0, 0, 0, 0, 0, 0, 0, 0, 0, 0, 0, 0, 0, 0, 0, 0, 0, 1, 1,\n",
       "       1, 1, 1, 1, 0, 0, 0, 0, 0, 0, 0, 0, 0, 0, 0, 0, 0, 0, 0, 0, 0, 0,\n",
       "       0, 0, 0, 0, 0, 0, 0, 0, 0, 0, 0, 0, 0, 2, 2, 2, 2, 2, 2, 2, 2, 0,\n",
       "       0, 0, 0, 0, 0, 0, 0, 0, 0, 0, 0, 0, 0, 0, 0, 0, 0, 2, 2, 2, 0, 0,\n",
       "       0, 0, 0, 0, 0])"
      ]
     },
     "execution_count": 58,
     "metadata": {},
     "output_type": "execute_result"
    }
   ],
   "source": [
    "# Labels\n",
    "np.argmax(Y_test[185:300,:],axis=1)\n"
   ]
  },
  {
   "cell_type": "code",
   "execution_count": 59,
   "metadata": {},
   "outputs": [
    {
     "data": {
      "text/plain": [
       "array([0, 0, 0, 0, 0, 0, 0, 0, 0, 0, 0, 0, 0, 0, 0, 0, 0, 0, 0, 0, 0, 0,\n",
       "       0, 0, 0, 0, 0, 0, 0, 0, 0, 0, 0, 0, 0, 0, 0, 0, 0, 0, 0, 0, 0, 0,\n",
       "       0, 0, 0, 0, 0, 0, 0, 0, 0, 0, 0, 0, 0, 0, 0, 0, 0, 0, 0, 0, 0, 0,\n",
       "       0, 0, 0, 0, 0, 0, 0, 0, 0, 0, 0, 0, 0, 0, 0, 0, 0, 0, 0, 0, 0, 0,\n",
       "       0, 0, 0, 0, 0, 0, 0, 0, 0, 0, 0, 0, 0, 0, 0, 0, 0, 0, 0, 0, 0, 0,\n",
       "       0, 0, 0, 0, 0])"
      ]
     },
     "execution_count": 59,
     "metadata": {},
     "output_type": "execute_result"
    }
   ],
   "source": [
    "# Predicted\n",
    "np.argmax(y_predicted[185:300,:],axis=1)"
   ]
  },
  {
   "cell_type": "code",
   "execution_count": null,
   "metadata": {
    "collapsed": true
   },
   "outputs": [],
   "source": []
  }
 ],
 "metadata": {
  "kernelspec": {
   "display_name": "Python 3",
   "language": "python",
   "name": "python3"
  },
  "language_info": {
   "codemirror_mode": {
    "name": "ipython",
    "version": 3
   },
   "file_extension": ".py",
   "mimetype": "text/x-python",
   "name": "python",
   "nbconvert_exporter": "python",
   "pygments_lexer": "ipython3",
   "version": "3.5.4"
  }
 },
 "nbformat": 4,
 "nbformat_minor": 2
}
