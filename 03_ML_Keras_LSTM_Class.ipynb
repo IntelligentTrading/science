{
 "cells": [
  {
   "cell_type": "markdown",
   "metadata": {},
   "source": [
    "## Predict price at next period with LSTM and Keras as a regression\n"
   ]
  },
  {
   "cell_type": "code",
   "execution_count": 101,
   "metadata": {},
   "outputs": [
    {
     "name": "stdout",
     "output_type": "stream",
     "text": [
      "1.0.0\n",
      "3.5.4 |Anaconda custom (x86_64)| (default, Sep 21 2017, 18:03:17) \n",
      "[GCC 4.2.1 Compatible Clang 4.0.1 (tags/RELEASE_401/final)]\n"
     ]
    }
   ],
   "source": [
    "import sys\n",
    "import time\n",
    "import numpy as np\n",
    "import pandas as pd\n",
    "import os\n",
    "import matplotlib\n",
    "import matplotlib.pyplot as plt\n",
    "import random\n",
    "%matplotlib inline\n",
    "from matplotlib.dates import DateFormatter, WeekdayLocator, DayLocator, MONDAY\n",
    "\n",
    "import mysql.connector\n",
    "from mysql.connector import errorcode\n",
    "\n",
    "import tensorflow as tf\n",
    "import shutil\n",
    "import tensorflow.contrib.learn as tflearn\n",
    "import tensorflow.contrib.layers as tflayers\n",
    "from tensorflow.contrib.learn.python.learn import learn_runner\n",
    "import tensorflow.contrib.metrics as metrics\n",
    "import tensorflow.contrib.rnn as rnn\n",
    "\n",
    "from sklearn.metrics import r2_score\n",
    "from sklearn.preprocessing import MinMaxScaler, normalize, scale\n",
    "\n",
    "print(tf.__version__)\n",
    "print(sys.version)\n",
    "\n",
    "# https://mapr.com/blog/deep-learning-tensorflow/\n"
   ]
  },
  {
   "cell_type": "code",
   "execution_count": 102,
   "metadata": {},
   "outputs": [],
   "source": [
    "from keras.models import load_model, Model, Sequential\n",
    "from keras.layers import Dense, Activation, Dropout, Input, LSTM, Reshape, Lambda, RepeatVector\n",
    "from keras.initializers import glorot_uniform\n",
    "from keras.utils import to_categorical\n",
    "from keras.optimizers import Adam\n",
    "from keras import backend as K\n",
    "\n",
    "from ittutils import ittconnection, get_resampled, get_raw_price, get_raw_volume"
   ]
  },
  {
   "cell_type": "code",
   "execution_count": null,
   "metadata": {
    "collapsed": true
   },
   "outputs": [],
   "source": []
  },
  {
   "cell_type": "markdown",
   "metadata": {},
   "source": [
    "### Get price and volume timeseries from Staging DB \n"
   ]
  },
  {
   "cell_type": "code",
   "execution_count": 103,
   "metadata": {},
   "outputs": [],
   "source": [
    "db_connection = ittconnection('prodcopy')\n",
    "\n",
    "transaction_coin = 'ETH'\n",
    "counter_coin = 0\n",
    "resample_period = 60\n",
    "\n",
    "raw_price_ts = get_raw_price(db_connection, transaction_coin, counter_coin)\n",
    "raw_volume_ts = get_raw_volume(db_connection, transaction_coin, counter_coin)\n",
    "\n",
    "raw_price_ts[\"volume\"] = raw_volume_ts\n",
    "\n"
   ]
  },
  {
   "cell_type": "code",
   "execution_count": 104,
   "metadata": {},
   "outputs": [
    {
     "data": {
      "text/html": [
       "<div>\n",
       "<style>\n",
       "    .dataframe thead tr:only-child th {\n",
       "        text-align: right;\n",
       "    }\n",
       "\n",
       "    .dataframe thead th {\n",
       "        text-align: left;\n",
       "    }\n",
       "\n",
       "    .dataframe tbody tr th {\n",
       "        vertical-align: top;\n",
       "    }\n",
       "</style>\n",
       "<table border=\"1\" class=\"dataframe\">\n",
       "  <thead>\n",
       "    <tr style=\"text-align: right;\">\n",
       "      <th></th>\n",
       "      <th>price</th>\n",
       "      <th>volume</th>\n",
       "    </tr>\n",
       "    <tr>\n",
       "      <th>timestamp</th>\n",
       "      <th></th>\n",
       "      <th></th>\n",
       "    </tr>\n",
       "  </thead>\n",
       "  <tbody>\n",
       "    <tr>\n",
       "      <th>2018-03-12 07:38:01.954350</th>\n",
       "      <td>7574314</td>\n",
       "      <td>1209.077677</td>\n",
       "    </tr>\n",
       "    <tr>\n",
       "      <th>2018-03-12 07:39:04.370770</th>\n",
       "      <td>7562996</td>\n",
       "      <td>1209.079502</td>\n",
       "    </tr>\n",
       "    <tr>\n",
       "      <th>2018-03-12 07:40:06.445440</th>\n",
       "      <td>7574316</td>\n",
       "      <td>1209.094639</td>\n",
       "    </tr>\n",
       "    <tr>\n",
       "      <th>2018-03-12 07:41:08.812360</th>\n",
       "      <td>7574316</td>\n",
       "      <td>1209.095969</td>\n",
       "    </tr>\n",
       "    <tr>\n",
       "      <th>2018-03-12 07:42:11.047110</th>\n",
       "      <td>7574316</td>\n",
       "      <td>1209.101274</td>\n",
       "    </tr>\n",
       "  </tbody>\n",
       "</table>\n",
       "</div>"
      ],
      "text/plain": [
       "                              price       volume\n",
       "timestamp                                       \n",
       "2018-03-12 07:38:01.954350  7574314  1209.077677\n",
       "2018-03-12 07:39:04.370770  7562996  1209.079502\n",
       "2018-03-12 07:40:06.445440  7574316  1209.094639\n",
       "2018-03-12 07:41:08.812360  7574316  1209.095969\n",
       "2018-03-12 07:42:11.047110  7574316  1209.101274"
      ]
     },
     "execution_count": 104,
     "metadata": {},
     "output_type": "execute_result"
    }
   ],
   "source": [
    "raw_price_ts.tail(5)\n"
   ]
  },
  {
   "cell_type": "markdown",
   "metadata": {},
   "source": [
    "### Cut the bad data from the beginning + resample"
   ]
  },
  {
   "cell_type": "code",
   "execution_count": 105,
   "metadata": {
    "collapsed": true
   },
   "outputs": [],
   "source": [
    "price_ts = raw_price_ts  # remove gaps\n",
    "price_ts[pd.isnull(price_ts[\"price\"])] = None\n",
    "\n",
    "# resample (for smoothing) and normalize (for learning)\n",
    "price_ts = price_ts.resample(rule='15min').mean()\n"
   ]
  },
  {
   "cell_type": "code",
   "execution_count": 106,
   "metadata": {},
   "outputs": [
    {
     "data": {
      "text/plain": [
       "<matplotlib.axes._subplots.AxesSubplot at 0x1c1fdb6898>"
      ]
     },
     "execution_count": 106,
     "metadata": {},
     "output_type": "execute_result"
    },
    {
     "data": {
      "image/png": "[encoded data removed]",
      "text/plain": [
       "<matplotlib.figure.Figure at 0x1c1fdcf710>"
      ]
     },
     "metadata": {},
     "output_type": "display_data"
    }
   ],
   "source": [
    "cutoff=1040\n",
    "price_ts.head(cutoff).plot()\n"
   ]
  },
  {
   "cell_type": "code",
   "execution_count": 107,
   "metadata": {
    "collapsed": true
   },
   "outputs": [],
   "source": [
    "# cut empty ts from the beginning and interpolate the rest\n",
    "price_ts = price_ts.tail(len(price_ts)-cutoff)\n",
    "price_ts = price_ts.interpolate() \n"
   ]
  },
  {
   "cell_type": "code",
   "execution_count": 108,
   "metadata": {},
   "outputs": [
    {
     "data": {
      "text/plain": [
       "price     2.395878e+06\n",
       "volume    8.641357e+02\n",
       "dtype: float64"
      ]
     },
     "execution_count": 108,
     "metadata": {},
     "output_type": "execute_result"
    }
   ],
   "source": [
    "price_ts.min(axis=0)\n"
   ]
  },
  {
   "cell_type": "code",
   "execution_count": 109,
   "metadata": {},
   "outputs": [
    {
     "data": {
      "image/png": "[encoded data removed]",
      "text/plain": [
       "<matplotlib.figure.Figure at 0x1c2e8e7080>"
      ]
     },
     "metadata": {},
     "output_type": "display_data"
    }
   ],
   "source": [
    "# visually inspect the price and volume\n",
    "fig, [ax1,ax2] = plt.subplots(nrows=2, ncols=1, figsize=(16,8))\n",
    "fig.suptitle(\"%s/%d real price\" % (transaction_coin, counter_coin))\n",
    "ax1.xaxis.set_major_formatter(DateFormatter(\"%d-%m\"))\n",
    "ax1.plot(price_ts['price'])\n",
    "ax2.plot(price_ts['volume'], color='orange')\n",
    "plt.show()\n"
   ]
  },
  {
   "cell_type": "code",
   "execution_count": 110,
   "metadata": {},
   "outputs": [
    {
     "name": "stdout",
     "output_type": "stream",
     "text": [
      "(13369, 2)\n"
     ]
    }
   ],
   "source": [
    "#print(resampl_ts.shape)\n",
    "print(price_ts.shape)\n"
   ]
  },
  {
   "cell_type": "code",
   "execution_count": null,
   "metadata": {
    "collapsed": true
   },
   "outputs": [],
   "source": []
  },
  {
   "cell_type": "markdown",
   "metadata": {
    "collapsed": true
   },
   "source": [
    "## Helper functions to convert ts into dataset"
   ]
  },
  {
   "cell_type": "code",
   "execution_count": 111,
   "metadata": {
    "collapsed": true
   },
   "outputs": [],
   "source": [
    "\n",
    "# REGRESSION: dataset for regression: split one continues timeseries inro many subsets by striding\n",
    "def regression_dataset_from_ts(data_df, win_size, stride, future, label_type):\n",
    "\n",
    "    n = len(data_df)\n",
    "    num_examples = int((n-win_size)/stride)\n",
    "    \n",
    "    # (4968, 96, 1)\n",
    "    predictors = 2  # make prediction based on multivatiate ts, price and volume\n",
    "    data_set = np.zeros([num_examples, win_size, predictors])\n",
    "    labels = np.zeros([num_examples,1])\n",
    "    prices = np.zeros([num_examples,1])\n",
    "\n",
    "    for ex in range(0,num_examples):\n",
    "        one_example_0 = data_df[ex:ex+win_size]['price'].values.reshape([-1,1])\n",
    "        one_example_1 = data_df[ex:ex+win_size]['volume'].values.reshape([-1,1])\n",
    "        last_price = one_example_0[-1,0]\n",
    "\n",
    "        future_prices = data_df[ex+win_size:ex+win_size+future]['price'].values\n",
    "        open_price = future_prices[0]\n",
    "        close_price = future_prices[-1]\n",
    "        price_return = close_price - open_price\n",
    "        percentage_return = 1 - (last_price - price_return) / last_price\n",
    "        \n",
    "        if label_type==\"price\":\n",
    "            label = open_price\n",
    "            \n",
    "        if label_type==\"return\":\n",
    "            label = price_return\n",
    "\n",
    "        delta = 0.03\n",
    "        if label_type==\"percent_return\":\n",
    "            label = 0 if (abs(percentage_return)<delta) else np.sign(percentage_return)\n",
    "        \n",
    "        data_set[ex,:,0] = one_example_0[:,0]\n",
    "        data_set[ex,:,1] = one_example_1[:,0]\n",
    "        labels[ex,:] = label\n",
    "        prices[ex,:] = open_price\n",
    "        \n",
    "    return data_set, labels, prices\n",
    "\n",
    "\n",
    "def classification_dataset_from_ts(data_df, win_size, stride, future, delta):\n",
    "\n",
    "    n = len(data_df)\n",
    "    num_examples = int((n-win_size)/stride)\n",
    "    \n",
    "    # (4968, 96, 1)\n",
    "    predictors = 2  # make prediction based on multivatiate ts, price and volume\n",
    "    data_set = np.zeros([num_examples, win_size, predictors])\n",
    "    labels = np.zeros([num_examples,3])\n",
    "    prices = np.zeros([num_examples,1])\n",
    "\n",
    "    for ex in range(0,num_examples):\n",
    "        one_example_0 = data_df[ex:ex+win_size]['price'].values.reshape([-1,1])\n",
    "        one_example_1 = data_df[ex:ex+win_size]['volume'].values.reshape([-1,1])\n",
    "        last_price = one_example_0[-1,0]\n",
    "\n",
    "        future_prices = data_df[ex+win_size:ex+win_size+future]['price'].values\n",
    "        open_price = future_prices[0]\n",
    "        close_price = future_prices[-1]\n",
    "        price_return = close_price - open_price\n",
    "        percentage_return = 1 - (last_price - price_return) / last_price\n",
    "        \n",
    "        label = 0 if (abs(percentage_return)<delta) else np.sign(percentage_return)\n",
    "        \n",
    "        data_set[ex,:,0] = one_example_0[:,0]\n",
    "        data_set[ex,:,1] = one_example_1[:,0]\n",
    "        prices[ex,:] = open_price\n",
    "        \n",
    "        # 0 - same / 1 - up / 2 - down\n",
    "        if label == 0:\n",
    "            labels[ex,0] = 1\n",
    "        elif label == 1:\n",
    "            labels[ex,1] = 1\n",
    "        elif label == -1:\n",
    "            labels[ex,2] = 1\n",
    "                \n",
    "    return data_set, labels, prices\n",
    "\n",
    "def accuracy(predictions, labels):\n",
    "    return (100.0 * np.sum(np.argmax(predictions, 1) == np.argmax(labels, 1)) /  predictions.shape[0])\n",
    "\n",
    "def softmax(x):\n",
    "    \"\"\"Compute softmax values for each sets of scores in x.\"\"\"\n",
    "    e_x = np.exp(x - np.max(x))\n",
    "    return e_x / e_x.sum(axis=0) \n"
   ]
  },
  {
   "cell_type": "markdown",
   "metadata": {},
   "source": [
    "# CLASSIFICATION"
   ]
  },
  {
   "cell_type": "markdown",
   "metadata": {},
   "source": [
    "## Create a dataset by converting ts into matrix (X,Y)"
   ]
  },
  {
   "cell_type": "code",
   "execution_count": 124,
   "metadata": {
    "collapsed": true
   },
   "outputs": [],
   "source": [
    "# normalize to 0 - 1\n",
    "#price_ts =  ((price_ts - price_ts.mean()) / (price_ts.max() - price_ts.min()) )\n",
    "\n",
    "# make it more then one\n",
    "#price_ts = price_ts + abs(price_ts.min(axis=0))\n",
    "\n",
    "# get the first part as a training and last part as test (not, right, has to be changed!)\n",
    "train_num = int(len(price_ts) * 0.85)\n",
    "test_num = len(price_ts) - train_num\n",
    "             \n",
    "ts_train = price_ts.head(train_num)\n",
    "ts_test = price_ts.tail(test_num)\n",
    "\n",
    "win_size = 72 # do prediction based on history\n",
    "future = 6    # predict a price return in future timepoints\n",
    "delta = 0.002  # consider UP if last price has been changed by more then delta persents\n",
    "\n",
    "# convert linear ts to a numpy array of number of training examples\n",
    "X_train, Y_train, y_tr_price = classification_dataset_from_ts(data_df=ts_train, win_size=win_size, stride=1, future=future, delta=delta)\n",
    "\n",
    "X_test, Y_test, y_tst_price = classification_dataset_from_ts(data_df=ts_test, win_size=win_size, stride=1, future=future, delta=delta)\n",
    "\n"
   ]
  },
  {
   "cell_type": "markdown",
   "metadata": {},
   "source": [
    "### Normalize dataset"
   ]
  },
  {
   "cell_type": "code",
   "execution_count": 125,
   "metadata": {
    "collapsed": true
   },
   "outputs": [],
   "source": [
    "#plt.plot(X_train[10,:,0])\n"
   ]
  },
  {
   "cell_type": "code",
   "execution_count": 126,
   "metadata": {},
   "outputs": [],
   "source": [
    "for example in range(X_train.shape[0]):\n",
    "    X_train[example,:,0] = scale(X_train[example,:,0])\n",
    "    X_train[example,:,1] = scale(X_train[example,:,1])\n",
    "\n",
    "for example in range(X_test.shape[0]):\n",
    "    X_test[example,:,0] = scale(X_test[example,:,0])\n",
    "    X_test[example,:,1] = scale(X_test[example,:,1])\n"
   ]
  },
  {
   "cell_type": "code",
   "execution_count": 127,
   "metadata": {
    "collapsed": true
   },
   "outputs": [],
   "source": [
    "#plt.plot(X_train[30,:,0])"
   ]
  },
  {
   "cell_type": "markdown",
   "metadata": {},
   "source": [
    "### Color the price plot according to label"
   ]
  },
  {
   "cell_type": "code",
   "execution_count": 128,
   "metadata": {},
   "outputs": [
    {
     "data": {
      "text/plain": [
       "(11291, 3)"
      ]
     },
     "execution_count": 128,
     "metadata": {},
     "output_type": "execute_result"
    }
   ],
   "source": [
    "# Y_train is return in period of future=10\n",
    "# so we convert this return into classification problem ( +1 if return is positive and >10 %)\n",
    "Y_train.shape\n"
   ]
  },
  {
   "cell_type": "code",
   "execution_count": 130,
   "metadata": {},
   "outputs": [
    {
     "data": {
      "image/png": "[encoded data removed]",
      "text/plain": [
       "<matplotlib.figure.Figure at 0x1c2611c780>"
      ]
     },
     "metadata": {},
     "output_type": "display_data"
    }
   ],
   "source": [
    "fig, ax1 = plt.subplots(nrows=1, ncols=1, figsize=(17,8))\n",
    "\n",
    "ax1.set_title(\"Train Labels\")    \n",
    "color_label = []\n",
    "for p in Y_train:  \n",
    "    if p[1] == 1:\n",
    "        color = 'green'\n",
    "    elif p[2] == 1:\n",
    "        color = 'red' \n",
    "    else:\n",
    "        color = 'black'\n",
    "    color_label.append(color)\n",
    "\n",
    "ax1.scatter(range(y_tr_price.shape[0]),  y_tr_price, c=color_label, s=1)\n",
    "\n",
    "plt.show()"
   ]
  },
  {
   "cell_type": "code",
   "execution_count": null,
   "metadata": {
    "collapsed": true
   },
   "outputs": [],
   "source": []
  },
  {
   "cell_type": "code",
   "execution_count": 131,
   "metadata": {
    "collapsed": true
   },
   "outputs": [],
   "source": [
    "\n",
    "n_time_features = X_train.shape[1]\n",
    "classes = Y_train.shape[1]\n",
    "m_test = X_test.shape[0]\n",
    "m_train = X_train.shape[0]\n"
   ]
  },
  {
   "cell_type": "code",
   "execution_count": 132,
   "metadata": {},
   "outputs": [
    {
     "name": "stdout",
     "output_type": "stream",
     "text": [
      "(11291, 72, 2)\n",
      "(11291, 3)\n",
      "(1934, 72, 2)\n",
      "(1934, 3)\n",
      " m_train 11291, m_test 1934, n_features 72, classes 3\n"
     ]
    }
   ],
   "source": [
    "X_train = X_train.astype(dtype=np.float32)\n",
    "X_test = X_test.astype(dtype=np.float32)\n",
    "\n",
    "\n",
    "print(X_train.shape)\n",
    "print(Y_train.shape)\n",
    "#print(\"Y train first  = \")\n",
    "#print( str(Y_train[0:3,]))\n",
    "\n",
    "print(X_test.shape)\n",
    "print(Y_test.shape)\n",
    "\n",
    "print(\" m_train %d, m_test %d, n_features %d, classes %d\" % (m_train, m_test, n_time_features, classes ))\n",
    "  "
   ]
  },
  {
   "cell_type": "code",
   "execution_count": null,
   "metadata": {
    "collapsed": true
   },
   "outputs": [],
   "source": []
  },
  {
   "cell_type": "markdown",
   "metadata": {},
   "source": [
    "# KERAS\n",
    "The way Keras LSTM layers work is by taking in a numpy array of 3 dimensions \n",
    "\n",
    "(N, W, F) where\n",
    "- N is the number of training sequences, \n",
    "- W is the sequence length and \n",
    "- F is the number of features of each sequence\n",
    "\n",
    "network structure of [1, 50, 100, 1] where \n",
    "- 1 input layer (consisting of a sequence of size 50) which feeds into an LSTM layer with 50 neurons, \n",
    "- that in turn feeds into another LSTM layer with 100 neurons \n",
    "- which then feeds into a fully connected normal layer of 1 neuron with a linear activation function which will be used to give the prediction of the next time step.\n",
    "\n",
    "<img src=\"images/rnn.jpeg\" style=\"width:600;height:400px;\">"
   ]
  },
  {
   "cell_type": "code",
   "execution_count": 142,
   "metadata": {
    "collapsed": true
   },
   "outputs": [],
   "source": [
    "#layers = [1, win_size, 100, 1]\n",
    "\n",
    "\n",
    "data_dim = 2\n",
    "timesteps = win_size\n",
    "num_classes = 3\n",
    "\n",
    "def build_model():\n",
    "    # expected input data shape: (batch_size, timesteps, data_dim)\n",
    "    model = Sequential()\n",
    "\n",
    "    model.add(\n",
    "        LSTM(\n",
    "            120, \n",
    "            return_sequences=True,\n",
    "            input_shape=(timesteps, data_dim),\n",
    "            dropout=0.1\n",
    "        )\n",
    "    )  # returns a sequence of vectors of dimension 32\n",
    "    \n",
    "    model.add(LSTM(120, return_sequences=True, dropout=0.1))  # returns a sequence of vectors of dimension 32\n",
    "    \n",
    "    model.add(LSTM(120, dropout=0.1))  # return a single vector of dimension 32\n",
    "    model.add(Dense(num_classes, activation='softmax'))\n",
    "\n",
    "    start = time.time()\n",
    "    model.compile(\n",
    "        loss='categorical_crossentropy',\n",
    "        optimizer='rmsprop',\n",
    "        metrics=['accuracy']\n",
    "    )\n",
    "    print(\"> Compilation Time : \", time.time() - start)\n",
    "    return model\n",
    "\n",
    "def predict_point_by_point(model, data):\n",
    "    #Predict each timestep given the last sequence of true data, in effect only predicting 1 step ahead each time\n",
    "    predicted = model.predict(data)\n",
    "    #predicted = np.reshape(predicted, (predicted.size,))\n",
    "    return predicted\n",
    "\n",
    "def predict_sequence_full(model, data, window_size):\n",
    "    #Shift the window by 1 new prediction each time, re-run predictions on new window\n",
    "    curr_frame = data[0]\n",
    "    predicted = []\n",
    "    for i in range(len(data)):\n",
    "        predicted.append(model.predict(curr_frame[newaxis,:,:])[0,0])\n",
    "        curr_frame = curr_frame[1:]\n",
    "        curr_frame = np.insert(curr_frame, [window_size-1], predicted[-1], axis=0)\n",
    "    return predicted\n",
    "\n",
    "def predict_sequences_multiple(model, data, window_size, prediction_len):\n",
    "    #Predict sequence of 50 steps before shifting prediction run forward by 50 steps\n",
    "    prediction_seqs = []\n",
    "    for i in range(int(len(data)/prediction_len)):\n",
    "        curr_frame = data[i*prediction_len]\n",
    "        predicted = []\n",
    "        for j in range(prediction_len):\n",
    "            predicted.append(model.predict(curr_frame[newaxis,:,:])[0,0])\n",
    "            curr_frame = curr_frame[1:]\n",
    "            curr_frame = np.insert(curr_frame, [window_size-1], predicted[-1], axis=0)\n",
    "        prediction_seqs.append(predicted)\n",
    "    return prediction_seqs"
   ]
  },
  {
   "cell_type": "code",
   "execution_count": null,
   "metadata": {},
   "outputs": [
    {
     "name": "stdout",
     "output_type": "stream",
     "text": [
      "> Compilation Time :  0.05643200874328613\n"
     ]
    },
    {
     "name": "stderr",
     "output_type": "stream",
     "text": [
      "/Users/alex/anaconda3/anaconda/envs/py3.5.ITT/lib/python3.5/site-packages/keras/models.py:874: UserWarning: The `nb_epoch` argument in `fit` has been renamed `epochs`.\n",
      "  warnings.warn('The `nb_epoch` argument in `fit` '\n"
     ]
    },
    {
     "name": "stdout",
     "output_type": "stream",
     "text": [
      "Train on 10161 samples, validate on 1130 samples\n",
      "Epoch 1/60\n",
      "10161/10161 [==============================] - 224s 22ms/step - loss: 1.0482 - acc: 0.4294 - val_loss: 1.1575 - val_acc: 0.2664\n",
      "Epoch 2/60\n",
      "10161/10161 [==============================] - 211s 21ms/step - loss: 1.0440 - acc: 0.4308 - val_loss: 1.2145 - val_acc: 0.2858\n",
      "Epoch 3/60\n",
      "10161/10161 [==============================] - 229s 23ms/step - loss: 1.0405 - acc: 0.4415 - val_loss: 1.2174 - val_acc: 0.3354\n",
      "Epoch 4/60\n",
      "10161/10161 [==============================] - 223s 22ms/step - loss: 1.0410 - acc: 0.4414 - val_loss: 1.1989 - val_acc: 0.2540\n",
      "Epoch 5/60\n",
      "10161/10161 [==============================] - 219s 22ms/step - loss: 1.0389 - acc: 0.4408 - val_loss: 1.2307 - val_acc: 0.2796\n",
      "Epoch 6/60\n",
      "10161/10161 [==============================] - 244s 24ms/step - loss: 1.0392 - acc: 0.4470 - val_loss: 1.2174 - val_acc: 0.2717\n",
      "Epoch 7/60\n",
      "10161/10161 [==============================] - 252s 25ms/step - loss: 1.0338 - acc: 0.4452 - val_loss: 1.1907 - val_acc: 0.2903\n",
      "Epoch 8/60\n",
      "10161/10161 [==============================] - 242s 24ms/step - loss: 1.0323 - acc: 0.4466 - val_loss: 1.1587 - val_acc: 0.2752\n",
      "Epoch 9/60\n",
      "10161/10161 [==============================] - 227s 22ms/step - loss: 1.0289 - acc: 0.4457 - val_loss: 1.1840 - val_acc: 0.3389\n",
      "Epoch 10/60\n",
      "10161/10161 [==============================] - 237s 23ms/step - loss: 1.0297 - acc: 0.4487 - val_loss: 1.1463 - val_acc: 0.3292\n",
      "Epoch 11/60\n",
      " 5024/10161 [=============>................] - ETA: 3:45 - loss: 1.0263 - acc: 0.4594"
     ]
    }
   ],
   "source": [
    "\n",
    "epochs  = 60\n",
    "\n",
    "model = build_model()\n",
    "\n",
    "history = model.fit(\n",
    "    X_train,\n",
    "    Y_train,\n",
    "    batch_size=32,\n",
    "    nb_epoch=epochs,\n",
    "    validation_split=0.1)\n",
    "\n",
    "\n",
    "\n"
   ]
  },
  {
   "cell_type": "code",
   "execution_count": null,
   "metadata": {},
   "outputs": [],
   "source": [
    "# summarize history for loss\n",
    "plt.plot(history.history['loss'])\n",
    "#plt.plot(history.history['val_loss'])\n",
    "plt.title('model loss')\n",
    "plt.ylabel('loss')\n",
    "plt.xlabel('epoch')\n",
    "plt.legend(['train', 'test'], loc='upper left')\n",
    "plt.show()\n"
   ]
  },
  {
   "cell_type": "code",
   "execution_count": null,
   "metadata": {},
   "outputs": [],
   "source": [
    "history.history.keys()"
   ]
  },
  {
   "cell_type": "code",
   "execution_count": null,
   "metadata": {
    "collapsed": true
   },
   "outputs": [],
   "source": [
    "y_predicted_train = predict_point_by_point(model, X_train)\n",
    "predicted = predict_point_by_point(model, X_test)\n"
   ]
  },
  {
   "cell_type": "code",
   "execution_count": null,
   "metadata": {},
   "outputs": [],
   "source": [
    "np.argmax(y_predicted_train[0,:])\n",
    "y_predicted_train[0:10,:]"
   ]
  },
  {
   "cell_type": "code",
   "execution_count": null,
   "metadata": {},
   "outputs": [],
   "source": [
    "'''\n",
    "X_train, Y_train, y_tr_price = \n",
    "X_test, Y_test, y_tst_price = \n",
    "'''\n",
    "\n",
    "fig, [ax1,ax2] = plt.subplots(nrows=2, ncols=1, figsize=(17,14))\n",
    "\n",
    "ax1.set_title(\"Train Labels\")    \n",
    "color_label = []\n",
    "for p in Y_train:  \n",
    "    if p[1] == 1:\n",
    "        color = 'green'\n",
    "    elif p[2] == 1:\n",
    "        color = 'red' \n",
    "    else:\n",
    "        color = 'black'\n",
    "    color_label.append(color)\n",
    "ax1.scatter(range(y_tr_price.shape[0]),  y_tr_price, c=color_label, s=1)\n",
    "\n",
    "ax2.set_title(\"Train Prediction\")    \n",
    "col2 = [] \n",
    "for p in y_predicted_train: \n",
    "    idx = np.argmax(p)\n",
    "    if idx == 1:\n",
    "        color = 'green'\n",
    "    elif idx == 2:\n",
    "        color = 'red' \n",
    "    else:\n",
    "        color = 'black'\n",
    "    col2.append(color)\n",
    "\n",
    "ax2.scatter(range(y_tr_price.shape[0]),  y_tr_price, c=col2, s=1)\n",
    "plt.show()\n",
    "\n"
   ]
  },
  {
   "cell_type": "code",
   "execution_count": null,
   "metadata": {},
   "outputs": [],
   "source": [
    "predicted[100:200,:]\n",
    "\n"
   ]
  },
  {
   "cell_type": "code",
   "execution_count": null,
   "metadata": {},
   "outputs": [],
   "source": [
    "\n",
    "fig, ax1 = plt.subplots(nrows=1, ncols=1, figsize=(14,5))\n",
    "col3 = []\n",
    "for p in predicted: \n",
    "    idx = np.argmax(p)\n",
    "    if idx == 1:\n",
    "        color = 'green'\n",
    "    elif idx == 2:\n",
    "        color = 'red' \n",
    "    else:\n",
    "        color = 'black'\n",
    "    col3.append(color)\n",
    "\n",
    "\n",
    "ax1.scatter(range(y_tst_price.shape[0]),  y_tst_price, c=col3, s=1)\n",
    "plt.show()\n"
   ]
  },
  {
   "cell_type": "code",
   "execution_count": null,
   "metadata": {
    "collapsed": true
   },
   "outputs": [],
   "source": []
  },
  {
   "cell_type": "code",
   "execution_count": null,
   "metadata": {
    "collapsed": true
   },
   "outputs": [],
   "source": []
  }
 ],
 "metadata": {
  "kernelspec": {
   "display_name": "Python 3",
   "language": "python",
   "name": "python3"
  },
  "language_info": {
   "codemirror_mode": {
    "name": "ipython",
    "version": 3
   },
   "file_extension": ".py",
   "mimetype": "text/x-python",
   "name": "python",
   "nbconvert_exporter": "python",
   "pygments_lexer": "ipython3",
   "version": "3.5.4"
  }
 },
 "nbformat": 4,
 "nbformat_minor": 2
}
