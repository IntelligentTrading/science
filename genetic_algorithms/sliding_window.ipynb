{
 "cells": [
  {
   "cell_type": "code",
   "execution_count": null,
   "metadata": {},
   "outputs": [],
   "source": [
    "from sliding_window_validation import SlidingWindowValidator\n",
    "from gp_utils import Period\n",
    "training_period = Period('2018/04/01 00:00:00 UTC', '2018/05/01 00:00:00 UTC')\n",
    "validation_period = Period('2018/05/01 00:00:00 UTC', '2018/06/01 00:00:00 UTC')\n",
    "end_time = '2018/10/21 00:00:00 UTC'\n",
    "step = 60*60*24*7\n",
    "\n",
    "val = SlidingWindowValidator('gv5_experiments_sliding_template.json')\n",
    "df = val.run(training_period, validation_period, step, end_time, 'sliding_window_experiments_update_5')"
   ]
  },
  {
   "cell_type": "code",
   "execution_count": null,
   "metadata": {},
   "outputs": [],
   "source": [
    "df"
   ]
  },
  {
   "cell_type": "code",
   "execution_count": null,
   "metadata": {},
   "outputs": [],
   "source": [
    "from gp_artemis import ExperimentManager\n",
    "from chart_plotter import get_dot_graph, save_dot_graph\n",
    "import pandas as pd\n",
    "from PIL import Image\n",
    "\n",
    "pd.set_option('display.max_colwidth', -1)\n",
    "\n",
    "\n",
    "def get_thumbnail(path):\n",
    "    i = Image.open(path)\n",
    "    i.thumbnail((400, 400), Image.LANCZOS)\n",
    "    return i\n",
    "\n",
    "def image_base64(im):\n",
    "    if isinstance(im, str):\n",
    "        im = get_thumbnail(im)\n",
    "    with BytesIO() as buffer:\n",
    "        im.save(buffer, 'png')\n",
    "        return base64.b64encode(buffer.getvalue()).decode()\n",
    "\n",
    "def image_formatter(im):\n",
    "    return f'<img src=\"data:image/jpeg;base64,{image_base64(im)}\">'\n",
    "\n",
    "\n",
    "\n",
    "images = []\n",
    "for i in range(df.shape[0]):\n",
    "    row = df.iloc[i]\n",
    "    training_start, training_end = row.training_period.split(' - ')\n",
    "    validation_start, validation_end = row.validation_period.split(' - ')\n",
    "\n",
    "\n",
    "    experiment_json = val.experiment_json_template.format(start_time=training_start, end_time=training_end)\n",
    "    e = ExperimentManager(experiment_container=experiment_json, read_from_file=False)\n",
    "    experiment_id = 'run_evolution.d_BTC-USDT-1522540800-1525132800;gv5;ff_benchmarkdiff;x_0.9;m_0.7;n_500;gen_10;td_5;a;nrs'\n",
    "\n",
    "    gp = e.build_genetic_program(data=None, function_provider=e.function_provider, db_record=e.get_db_record_from_experiment_id(experiment_id))\n",
    "    individual = gp.individual_from_string(row.strategy[len('Strategy: evolved using genetic programming\\nRule set: '):])\n",
    "    save_dot_graph(individual, 'tmp', format='png')\n",
    "    img = get_thumbnail('tmp.png')\n",
    "    images.append(img)\n",
    "\n",
    "df[image] = images"
   ]
  },
  {
   "cell_type": "code",
   "execution_count": null,
   "metadata": {},
   "outputs": [],
   "source": [
    "from IPython.display import HTML\n",
    "from io import BytesIO\n",
    "import base64\n",
    "HTML(df[['training_all_coins_trading_against_BTC', 'image']].to_html(formatters={'image': image_formatter}, escape=False))"
   ]
  },
  {
   "cell_type": "code",
   "execution_count": null,
   "metadata": {},
   "outputs": [],
   "source": [
    "writer = pd.ExcelWriter('tmp.xlsx')\n",
    "df.to_excel(writer,'Sheet1')\n",
    "writer.save()"
   ]
  }
 ],
 "metadata": {
  "kernelspec": {
   "display_name": "Python 3",
   "language": "python",
   "name": "python3"
  },
  "language_info": {
   "codemirror_mode": {
    "name": "ipython",
    "version": 3
   },
   "file_extension": ".py",
   "mimetype": "text/x-python",
   "name": "python",
   "nbconvert_exporter": "python",
   "pygments_lexer": "ipython3",
   "version": "3.7.0"
  }
 },
 "nbformat": 4,
 "nbformat_minor": 2
}
